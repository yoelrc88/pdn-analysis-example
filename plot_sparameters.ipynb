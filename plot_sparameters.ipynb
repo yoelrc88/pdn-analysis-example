{
 "cells": [
  {
   "cell_type": "markdown",
   "id": "8a1b3ace",
   "metadata": {},
   "source": [
    "# Touchstone Plot Example\n",
    "This notebook demonstrates how to plot return loss, insertion loss, and input impedance from a Touchstone `.s2p` file using `scikit-rf`."
   ]
  },
  {
   "cell_type": "code",
   "execution_count": null,
   "id": "d2145fab",
   "metadata": {},
   "outputs": [],
   "source": [
    "import pathlib\n",
    "import numpy as np\n",
    "import matplotlib.pyplot as plt\n",
    "import skrf as rf"
   ]
  },
  {
   "cell_type": "code",
   "execution_count": null,
   "id": "d2db3e85",
   "metadata": {},
   "outputs": [],
   "source": [
    "touchstone_path = 'example.s2p'\n",
    "output_dir = pathlib.Path('plots')\n",
    "output_dir.mkdir(exist_ok=True)"
   ]
  },
  {
   "cell_type": "code",
   "execution_count": null,
   "id": "c288f722",
   "metadata": {},
   "outputs": [],
   "source": [
    "ntw = rf.Network(touchstone_path)\n",
    "freq = ntw.frequency.f/1e9\n",
    "return_loss_db = -20*np.log10(np.abs(ntw.s[:,0,0]))\n",
    "insertion_loss_db = -20*np.log10(np.abs(ntw.s[:,1,0]))\n",
    "impedance = ntw.z[:,0,0]"
   ]
  },
  {
   "cell_type": "code",
   "execution_count": null,
   "id": "6d43ea33",
   "metadata": {},
   "outputs": [],
   "source": [
    "plt.figure()\n",
    "plt.plot(freq, return_loss_db)\n",
    "plt.title('Return Loss (S11)')\n",
    "plt.xlabel('Frequency [GHz]')\n",
    "plt.ylabel('Magnitude [dB]')\n",
    "plt.grid(True)\n",
    "plt.savefig(output_dir/'return_loss.png')"
   ]
  },
  {
   "cell_type": "code",
   "execution_count": null,
   "id": "43c1680c",
   "metadata": {},
   "outputs": [],
   "source": [
    "plt.figure()\n",
    "plt.plot(freq, insertion_loss_db)\n",
    "plt.title('Insertion Loss (S21)')\n",
    "plt.xlabel('Frequency [GHz]')\n",
    "plt.ylabel('Magnitude [dB]')\n",
    "plt.grid(True)\n",
    "plt.savefig(output_dir/'insertion_loss.png')"
   ]
  },
  {
   "cell_type": "code",
   "execution_count": null,
   "id": "cd1f146e",
   "metadata": {},
   "outputs": [],
   "source": [
    "plt.figure()\n",
    "plt.plot(freq, impedance.real, label='Real')\n",
    "plt.plot(freq, impedance.imag, label='Imag')\n",
    "plt.title('Input Impedance (Z11)')\n",
    "plt.xlabel('Frequency [GHz]')\n",
    "plt.ylabel('Impedance [Ohms]')\n",
    "plt.legend()\n",
    "plt.grid(True)\n",
    "plt.savefig(output_dir/'input_impedance.png')"
   ]
  },
  {
   "cell_type": "code",
   "execution_count": null,
   "id": "4bcd4213",
   "metadata": {},
   "outputs": [],
   "source": [
    "import nbformat\n",
    "from nbconvert import ScriptExporter\n",
    "\n",
    "nb = nbformat.read('plot_sparameters.ipynb', as_version=4)\n",
    "script, _ = ScriptExporter().from_notebook_node(nb)\n",
    "with open('plot_sparameters.py', 'w') as f:\n",
    "    f.write(script)\n",
    "print('Exported notebook to plot_sparameters.py')"
   ]
  }
 ],
 "metadata": {},
 "nbformat": 4,
 "nbformat_minor": 5
}
